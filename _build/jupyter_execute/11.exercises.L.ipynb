{
 "cells": [
  {
   "cell_type": "markdown",
   "id": "f611195b",
   "metadata": {},
   "source": [
    "```{image} _static/img/cake.png\n",
    ":width: 10%\n",
    ":align: left\n",
    "```\n",
    "\n",
    "# Exercise set L\n",
    "\n",
    "Please, see the \n",
    "[**general comment on the tutorial exercises**](02.exercises.A.md)\n",
    "\n",
    "## Question L.1\n",
    "\n",
    "Consider the dynamic optimization problem of dividing a fixed amount of resource over time to maximize the discounted sum of utilities in each period, which can be represented by a simple process of eating a cake over time. (This type of problems is known as `cake eating`). \n",
    "\n",
    "Assume that:\n",
    "\n",
    "- The initial size of the cake be $m_0$\n",
    "- The cake has to be eaten within $T=3$ days\n",
    "- The choice is how much cake to eat each day, denoted $0 \\le c_t \\le m_t$, where $m_t$ is the size of the cake in the morning of day $t$\n",
    "- Naturally, what is not eaten in period $t$ is left for the future, so $m_{t+1}=m_t-c_t$\n",
    "- Let the utility be additively separable, i.e. the total utility represented by a sum of per-day utilities denoted $u(c_t)$\n",
    "- Assume that each day the cake becomes less tasty, so that from the point of view of day $t$ the utility of eating the cake the next day is discounted by (i.e. multiplied with) a coefficient $0 < \\beta < 1$\n",
    "\n",
    "Tasks:\n",
    "\n",
    "1. Write down the dynamic optimization problem in the form of *Bellman equation*\n",
    "2. Derive the value function and the policy function in each period starting from the last, i.e. performing by-hand backwards induction, when $u(c_t)=\\log(c_t)$\n",
    "\n",
    "## Question L.2\n",
    "\n",
    "Now consider the infinite horizon version of the cake eating problem. The only difference from your formulation in the previous question is that $T=\\infty$ and the termination condition in the *Bellman equation* disappears.\n",
    "\n",
    "The *Bellman equation* is now a functional equation which solution is given by a fixed point of the contracting Bellman operator in the functional space.\n",
    "The only by-hand solution in this case is to guess the solution and verify it.\n",
    "\n",
    "Find the solution (value and policy functions) of the problem by guessing a functional form, and then verifying that it satisfies the *Bellman equation*.\n",
    "\n",
    "```{hint}\n",
    "By guessing a functional form we mean that you should guess the form of the value function as function of the state variables and some intermediate parameters, which can be determined during the verification step.\n",
    "```\n",
    "\n",
    "## Question L.3\n",
    "\n",
    "The first order condition for the cake eating problem is given by a so-called Euler equation which links the optimal consumption level in any period to the optimal consumption level in the next period, and is given by\n",
    "%\n",
    "$$\n",
    "\\frac{d u}{d c}\\big(c^\\star(m)\\big) = \\beta \\frac{d u}{d c}\\big(c^\\star(m')\\big)\n",
    "$$\n",
    "where $m' = m-c^\\star(m)$ the size of the cake in the next time period under the optimal consumption.\n",
    "\n",
    "\n",
    "1. Derive this equation\n",
    "2. Verify that solving it for the infinite horizon case with $u(c)=\\log(c)$ gives the same solution as in the previous question.\n",
    "\n",
    "```{hint}\n",
    "Euler equation is a combination of the first order conditions *and* the envelope theorem applied to the value function.\n",
    "```"
   ]
  }
 ],
 "metadata": {
  "jupytext": {
   "formats": "md:myst",
   "text_representation": {
    "extension": ".md",
    "format_name": "myst",
    "format_version": 0.13,
    "jupytext_version": "1.11.5"
   }
  },
  "kernelspec": {
   "display_name": "Python 3",
   "language": "python",
   "name": "python3"
  },
  "language_info": {
   "codemirror_mode": {
    "name": "ipython",
    "version": 3
   },
   "file_extension": ".py",
   "mimetype": "text/x-python",
   "name": "python",
   "nbconvert_exporter": "python",
   "pygments_lexer": "ipython3",
   "version": "3.11.0"
  },
  "source_map": [
   13
  ]
 },
 "nbformat": 4,
 "nbformat_minor": 5
}