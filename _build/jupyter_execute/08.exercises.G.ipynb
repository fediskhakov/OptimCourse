{
 "cells": [
  {
   "cell_type": "markdown",
   "id": "e0fadc47",
   "metadata": {},
   "source": [
    "# Exercise set G\n",
    "\n",
    "Please, see the \n",
    "[**general comment on the tutorial exercises**](02.exercises.A.md)\n",
    "\n",
    "## Question G.1\n",
    "\n",
    "Solve the following constrained maximization problem using the Lagrange method, including the second order conditions.\n",
    "%\n",
    "$$\n",
    "f(x,y) = \\frac{x^3}{3}-3y^2+2x \\to \\max_{x,y}\n",
    "\\\\\n",
    "\\text {subject to}\n",
    "\\\\\n",
    "4x = y^3,\\\\\n",
    "x,y \\in \\mathbb{R}\n",
    "$$\n",
    "\n",
    "```{hint}\n",
    "1. Write down the Lagrangian function $\\mathcal{L}({\\bf x},{\\bf \\lambda})$\n",
    "2. Find all stationary points of $\\mathcal{L}({\\bf x},{\\bf \\lambda})$ with respect to ${\\bf x}$ and ${\\bf \\lambda}$, i.e. solve the system of first order equations\n",
    "3. Derive the bordered Hessian $H \\mathcal{L}({\\bf x},{\\bf \\lambda})$ and compute it value at the stationary points\n",
    "4. Using second order conditions, check if the stationary points are local optima\n",
    "3. Compare the function values at all identified local optima to find the global one\n",
    "\n",
    "```\n",
    "\n",
    "## Question G.2\n",
    "\n",
    "Solve the following constrained maximization problem using the Karush-Kuhn-Tucker method. Verify that the found stationary/critical points satisfy the second order conditions.\n",
    "%\n",
    "$$\n",
    "f(x,y) = x^3 - y^3 \\\\\n",
    "\\text {subject to} \\\\\n",
    "x^2 + y^2 \\le 1,\\\\\n",
    "x,y \\in \\mathbb{R}\n",
    "$$\n",
    "\n",
    "```{hint}\n",
    "\n",
    "1. Write down the Lagrangian function $\\mathcal{L}({\\bf x},{\\bf \\lambda})$\n",
    "2. Solve the KKT first order conditions to find the stationary points of\n",
    " $\\mathcal{L}({\\bf x},{\\bf \\lambda})$ with respect to ${\\bf x}$, together with the non-negativity of KKT multipliers and complimentary slackness conditions\n",
    "3. Using second order conditions using the subset of binding constraints, check if the stationary points at the boundary are local optima. Similarly, using the second order conditions for the unconstrained problem to investigate the interior stationary points\n",
    "3. Compare the function values at all identified local optima to find the global one\n",
    "\n",
    "```"
   ]
  }
 ],
 "metadata": {
  "jupytext": {
   "formats": "md:myst",
   "text_representation": {
    "extension": ".md",
    "format_name": "myst",
    "format_version": 0.13,
    "jupytext_version": "1.11.5"
   }
  },
  "kernelspec": {
   "display_name": "Python 3",
   "language": "python",
   "name": "python3"
  },
  "language_info": {
   "codemirror_mode": {
    "name": "ipython",
    "version": 3
   },
   "file_extension": ".py",
   "mimetype": "text/x-python",
   "name": "python",
   "nbconvert_exporter": "python",
   "pygments_lexer": "ipython3",
   "version": "3.11.0"
  },
  "source_map": [
   13
  ]
 },
 "nbformat": 4,
 "nbformat_minor": 5
}