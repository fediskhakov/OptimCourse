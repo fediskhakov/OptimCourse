{
 "cells": [
  {
   "cell_type": "markdown",
   "id": "d688fd2f",
   "metadata": {},
   "source": [
    "# Practice questions\n",
    "**Here is a collection of practice questions for ECON2125/6012** \\\n",
    "Fedor Iskhakov\n",
    "\n",
    "Please, use the following materials to practice for the exam:\n",
    "\n",
    "1. Midterm exam (2015) by Prof. John Stachurski (except questions on probability: 9 to 15) \\\n",
    "[pdf file](_static/pdf/2015_midterm_with_solutions.pdf)\n",
    "\n",
    "2. Tutorial questions and solutions (2022) by Associate Prof. Yijuan Chen \\\n",
    "[questions](_static/pdf/2022s2_w5_Questions_2019.pdf)\n",
    "[solutions](_static/pdf/2022s2_w5_Solutions_2019.pdf)\n",
    "\n",
    "2. Assignment three questions and solutions (2023) by Dr. Reza Hajargasht \\\n",
    "[questions](_static/pdf/2023s1_3_Q_ECON2125.pdf)\n",
    "[solutions](_static/pdf/2023s1_3_S_ECON2125.pdf)"
   ]
  }
 ],
 "metadata": {
  "jupytext": {
   "formats": "md:myst",
   "text_representation": {
    "extension": ".md",
    "format_name": "myst",
    "format_version": 0.13,
    "jupytext_version": "1.11.5"
   }
  },
  "language_info": {
   "codemirror_mode": {
    "name": "ipython",
    "version": 3
   },
   "file_extension": ".py",
   "mimetype": "text/x-python",
   "name": "python",
   "nbconvert_exporter": "python",
   "pygments_lexer": "ipython3",
   "version": "3.11.0"
  },
  "source_map": [
   9
  ]
 },
 "nbformat": 4,
 "nbformat_minor": 5
}