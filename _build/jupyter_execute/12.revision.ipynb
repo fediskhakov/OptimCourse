{
 "cells": [
  {
   "cell_type": "markdown",
   "id": "6b353275",
   "metadata": {},
   "source": [
    "# Revision\n",
    "**ECON2125/6012 Lecture 12**\n",
    "Fedor Iskhakov\n",
    "\n",
    "## Announcements & Reminders\n",
    "\n",
    "- None?\n",
    "## Plan for this lecture\n",
    "\n",
    "1. Main lessons learned in this course\n",
    "2. Examples of exam questions\n",
    "3. Q&A (mentimeter)\n",
    "\n",
    "```{image} _static/img/coming_soon.png\n",
    "   :scale: 100 %\n",
    "   :alt: soming soon\n",
    "   :align: center\n",
    "```"
   ]
  }
 ],
 "metadata": {
  "jupytext": {
   "formats": "md:myst",
   "text_representation": {
    "extension": ".md",
    "format_name": "myst",
    "format_version": 0.13,
    "jupytext_version": "1.11.5"
   }
  },
  "language_info": {
   "codemirror_mode": {
    "name": "ipython",
    "version": 3
   },
   "file_extension": ".py",
   "mimetype": "text/x-python",
   "name": "python",
   "nbconvert_exporter": "python",
   "pygments_lexer": "ipython3",
   "version": "3.11.0"
  },
  "source_map": [
   9
  ]
 },
 "nbformat": 4,
 "nbformat_minor": 5
}