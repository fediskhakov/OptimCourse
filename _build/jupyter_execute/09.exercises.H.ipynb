{
 "cells": [
  {
   "cell_type": "markdown",
   "id": "348a1465",
   "metadata": {},
   "source": [
    "# Exercise set H\n",
    "\n",
    "Following the invited lecture (which will not appear in the final exam) this week's tutorial focuses again on the type of problems that will likely appear in the final exam.\n",
    "\n",
    "## Question H.1\n",
    "\n",
    "Find the maxima and minima of the function $f(x,y) = xy$ subject to $x^2+y^2=2a^2$, where $a>0$.\n",
    "\n",
    "```{hint}\n",
    "Checking both first _and_ second order conditions if necessary for the top grade at the exam\n",
    "```\n",
    "\n",
    "## Question H.2\n",
    "\n",
    "Find the maxima and minima of the function $f(x,y) = \\tfrac{1}{x} + \\tfrac{1}{y}$ subject to $(\\tfrac{1}{x})^2+(\\tfrac{1}{y})^2=(\\tfrac{1}{a})^2$, where $a>0$.\n",
    "\n",
    "## Question H.3\n",
    "\n",
    "Solve the following maximization problem\n",
    "%\n",
    "$$\n",
    "xy^{\\tfrac{1}{2}}z^{\\tfrac{1}{3}} \\longrightarrow max_{x,y,z}\n",
    "\\\\\n",
    "\\text{ subject to }\\\\\n",
    "x \\ge 0, y \\ge 0 ,z \\ge 0,\n",
    "3x + 2y + z \\le 10\\\\\n",
    "%\n",
    "$$"
   ]
  }
 ],
 "metadata": {
  "jupytext": {
   "formats": "md:myst",
   "text_representation": {
    "extension": ".md",
    "format_name": "myst",
    "format_version": 0.13,
    "jupytext_version": "1.11.5"
   }
  },
  "kernelspec": {
   "display_name": "Python 3",
   "language": "python",
   "name": "python3"
  },
  "language_info": {
   "codemirror_mode": {
    "name": "ipython",
    "version": 3
   },
   "file_extension": ".py",
   "mimetype": "text/x-python",
   "name": "python",
   "nbconvert_exporter": "python",
   "pygments_lexer": "ipython3",
   "version": "3.11.0"
  },
  "source_map": [
   13
  ]
 },
 "nbformat": 4,
 "nbformat_minor": 5
}