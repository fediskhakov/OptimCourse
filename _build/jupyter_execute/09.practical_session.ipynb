{
 "cells": [
  {
   "cell_type": "markdown",
   "id": "6d96c399",
   "metadata": {},
   "source": [
    "# Guest lecture\n",
    "\n",
    "**\"Constrained optimization: practical session\"** \\\n",
    "by \\\n",
    "***Dr. Esben Skriver Andersen***\n",
    "\n",
    "```{image} _static/img/esben.jpeg\n",
    ":scale: 40%\n",
    "```\n",
    "\n",
    "[Dr. Esben Skriver Andersen](https://www.linkedin.com/in/esben-scriver-andersen-74159598/?originalSubdomain=au) is a postdoc at RSE working on structural estimation of dynamic discrete choice and matching models\n",
    "\n",
    "---\n",
    "\n",
    "```{image} _static/pdf/Esben_invited_lecture_slide1.png\n",
    ":alt: slides\n",
    ":class: bg-primary\n",
    ":width: 60%\n",
    ":align: center\n",
    ":target: _static/pdf/Esben_invited_lecture.pdf\n",
    "```\n",
    "\n",
    "[Download the slides here](_static/pdf/Esben_invited_lecture.pdf)\n",
    "\n",
    "```{note}\n",
    "Please, note that the material from this lecture will not appear in the final exam\n",
    "```"
   ]
  }
 ],
 "metadata": {
  "jupytext": {
   "formats": "md:myst",
   "text_representation": {
    "extension": ".md",
    "format_name": "myst",
    "format_version": 0.13,
    "jupytext_version": "1.11.5"
   }
  },
  "language_info": {
   "codemirror_mode": {
    "name": "ipython",
    "version": 3
   },
   "file_extension": ".py",
   "mimetype": "text/x-python",
   "name": "python",
   "nbconvert_exporter": "python",
   "pygments_lexer": "ipython3",
   "version": "3.11.0"
  },
  "source_map": [
   9
  ]
 },
 "nbformat": 4,
 "nbformat_minor": 5
}