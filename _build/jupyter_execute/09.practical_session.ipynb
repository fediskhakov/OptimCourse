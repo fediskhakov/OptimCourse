{
 "cells": [
  {
   "cell_type": "markdown",
   "id": "51dd40c6",
   "metadata": {},
   "source": [
    "# Guest lecture\n",
    "\n",
    "**\"Constrained optimization: practical session\"** \\\n",
    "by \\\n",
    "***Dr. Esben Skriver Andersen***\n",
    "\n",
    "\n",
    "[Download the slides here](_static/pdf/Esben_invited_lecture.pdf)\n",
    "\n",
    "```{image} _static/pdf/Esben_invited_lecture_slide1.png\n",
    ":alt: slides\n",
    ":class: bg-primary\n",
    ":width: 60%\n",
    ":align: center\n",
    ":target: _static/pdf/Esben_invited_lecture.pdf\n",
    "```"
   ]
  }
 ],
 "metadata": {
  "jupytext": {
   "formats": "md:myst",
   "text_representation": {
    "extension": ".md",
    "format_name": "myst",
    "format_version": 0.13,
    "jupytext_version": "1.11.5"
   }
  },
  "language_info": {
   "codemirror_mode": {
    "name": "ipython",
    "version": 3
   },
   "file_extension": ".py",
   "mimetype": "text/x-python",
   "name": "python",
   "nbconvert_exporter": "python",
   "pygments_lexer": "ipython3",
   "version": "3.11.0"
  },
  "source_map": [
   9
  ]
 },
 "nbformat": 4,
 "nbformat_minor": 5
}